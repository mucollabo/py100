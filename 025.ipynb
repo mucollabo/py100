import pandas as pd

df = pd.read_csv('./data/bok_statistics_CD.csv', header=None)
print(df.head())
print('\n')

df.columns = ['year', 'CD_rate', 'change']
df.set_index('year', inplace=True)
print(df.head())
df.to_csv('./data/bok_statistics_CD_2.csv')
print('\n')

df.plot()

df['CD_rate'].plot()
df['change'].plot()
